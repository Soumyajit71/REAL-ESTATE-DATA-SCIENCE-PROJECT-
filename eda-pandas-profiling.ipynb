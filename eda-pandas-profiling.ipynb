{
 "cells": [
  {
   "cell_type": "code",
   "execution_count": 3,
   "id": "bcaa0470",
   "metadata": {},
   "outputs": [
    {
     "ename": "ModuleNotFoundError",
     "evalue": "No module named 'pandas_profiling'",
     "output_type": "error",
     "traceback": [
      "\u001b[1;31m---------------------------------------------------------------------------\u001b[0m",
      "\u001b[1;31mModuleNotFoundError\u001b[0m                       Traceback (most recent call last)",
      "\u001b[1;32m~\\AppData\\Local\\Temp\\ipykernel_13260\\1020331569.py\u001b[0m in \u001b[0;36m<module>\u001b[1;34m\u001b[0m\n\u001b[0;32m      1\u001b[0m \u001b[1;32mimport\u001b[0m \u001b[0mpandas\u001b[0m \u001b[1;32mas\u001b[0m \u001b[0mpd\u001b[0m\u001b[1;33m\u001b[0m\u001b[1;33m\u001b[0m\u001b[0m\n\u001b[1;32m----> 2\u001b[1;33m \u001b[1;32mfrom\u001b[0m \u001b[0mpandas_profiling\u001b[0m \u001b[1;32mimport\u001b[0m \u001b[0mProfileReport\u001b[0m\u001b[1;33m\u001b[0m\u001b[1;33m\u001b[0m\u001b[0m\n\u001b[0m\u001b[0;32m      3\u001b[0m \u001b[1;33m\u001b[0m\u001b[0m\n\u001b[0;32m      4\u001b[0m \u001b[1;31m# Load your dataset\u001b[0m\u001b[1;33m\u001b[0m\u001b[1;33m\u001b[0m\u001b[0m\n\u001b[0;32m      5\u001b[0m \u001b[0mdf\u001b[0m \u001b[1;33m=\u001b[0m \u001b[0mpd\u001b[0m\u001b[1;33m.\u001b[0m\u001b[0mread_csv\u001b[0m\u001b[1;33m(\u001b[0m\u001b[1;34m'gurgaon_properties_cleaned_v2.csv'\u001b[0m\u001b[1;33m)\u001b[0m\u001b[1;33m.\u001b[0m\u001b[0mdrop_duplicates\u001b[0m\u001b[1;33m(\u001b[0m\u001b[1;33m)\u001b[0m\u001b[1;33m\u001b[0m\u001b[1;33m\u001b[0m\u001b[0m\n",
      "\u001b[1;31mModuleNotFoundError\u001b[0m: No module named 'pandas_profiling'"
     ]
    }
   ],
   "source": [
    "import pandas as pd\n",
    "from pandas_profiling import ProfileReport\n",
    "\n",
    "# Load your dataset\n",
    "df = pd.read_csv('gurgaon_properties_cleaned_v2.csv').drop_duplicates()\n",
    "\n",
    "# Create the ProfileReport object\n",
    "profile = ProfileReport(df, title='Pandas Profiling Report', explorative=True)\n",
    "\n",
    "# Generate the report\n",
    "profile.to_file(\"output_report.html\")"
   ]
  },
  {
   "cell_type": "code",
   "execution_count": 2,
   "id": "6fba8eef",
   "metadata": {},
   "outputs": [
    {
     "name": "stdout",
     "output_type": "stream",
     "text": [
      "Collecting pandas-profiling\n",
      "  Downloading pandas_profiling-3.6.6-py2.py3-none-any.whl (324 kB)\n",
      "     -------------------------------------- 324.4/324.4 kB 3.3 MB/s eta 0:00:00\n",
      "Collecting ydata-profiling\n",
      "  Downloading ydata_profiling-4.7.0-py2.py3-none-any.whl (357 kB)\n",
      "     -------------------------------------- 357.9/357.9 kB 4.4 MB/s eta 0:00:00\n",
      "Requirement already satisfied: pandas!=1.4.0,<3,>1.1 in c:\\users\\lenovo\\appdata\\local\\anaconda\\lib\\site-packages (from ydata-profiling->pandas-profiling) (1.4.4)\n",
      "Collecting wordcloud>=1.9.1\n",
      "  Downloading wordcloud-1.9.3-cp39-cp39-win_amd64.whl (300 kB)\n",
      "     -------------------------------------- 300.6/300.6 kB 2.7 MB/s eta 0:00:00\n",
      "Requirement already satisfied: matplotlib<3.9,>=3.2 in c:\\users\\lenovo\\appdata\\local\\anaconda\\lib\\site-packages (from ydata-profiling->pandas-profiling) (3.5.2)\n",
      "Collecting multimethod<2,>=1.4\n",
      "  Downloading multimethod-1.11.2-py3-none-any.whl (10 kB)\n",
      "Collecting phik<0.13,>=0.11.1\n",
      "  Downloading phik-0.12.4-cp39-cp39-win_amd64.whl (666 kB)\n",
      "     -------------------------------------- 666.3/666.3 kB 4.7 MB/s eta 0:00:00\n",
      "Collecting numba<1,>=0.56.0\n",
      "  Downloading numba-0.59.1-cp39-cp39-win_amd64.whl (2.6 MB)\n",
      "     ---------------------------------------- 2.6/2.6 MB 1.1 MB/s eta 0:00:00\n",
      "Requirement already satisfied: numpy<2,>=1.16.0 in c:\\users\\lenovo\\appdata\\local\\anaconda\\lib\\site-packages (from ydata-profiling->pandas-profiling) (1.21.5)\n",
      "Requirement already satisfied: requests<3,>=2.24.0 in c:\\users\\lenovo\\appdata\\local\\anaconda\\lib\\site-packages (from ydata-profiling->pandas-profiling) (2.28.1)\n",
      "Collecting imagehash==4.3.1\n",
      "  Downloading ImageHash-4.3.1-py2.py3-none-any.whl (296 kB)\n",
      "     -------------------------------------- 296.5/296.5 kB 3.7 MB/s eta 0:00:00\n",
      "Collecting typeguard<5,>=4.1.2\n",
      "  Downloading typeguard-4.2.1-py3-none-any.whl (34 kB)\n",
      "Requirement already satisfied: tqdm<5,>=4.48.2 in c:\\users\\lenovo\\appdata\\local\\anaconda\\lib\\site-packages (from ydata-profiling->pandas-profiling) (4.64.1)\n",
      "Requirement already satisfied: seaborn<0.13,>=0.10.1 in c:\\users\\lenovo\\appdata\\local\\anaconda\\lib\\site-packages (from ydata-profiling->pandas-profiling) (0.11.2)\n",
      "Requirement already satisfied: statsmodels<1,>=0.13.2 in c:\\users\\lenovo\\appdata\\local\\anaconda\\lib\\site-packages (from ydata-profiling->pandas-profiling) (0.13.2)\n",
      "Requirement already satisfied: PyYAML<6.1,>=5.0.0 in c:\\users\\lenovo\\appdata\\local\\anaconda\\lib\\site-packages (from ydata-profiling->pandas-profiling) (6.0)\n",
      "Collecting dacite>=1.8\n",
      "  Downloading dacite-1.8.1-py3-none-any.whl (14 kB)\n",
      "Collecting visions[type_image_path]<0.7.7,>=0.7.5\n",
      "  Downloading visions-0.7.6-py3-none-any.whl (104 kB)\n",
      "     -------------------------------------- 104.8/104.8 kB 1.5 MB/s eta 0:00:00\n",
      "Collecting htmlmin==0.1.12\n",
      "  Downloading htmlmin-0.1.12.tar.gz (19 kB)\n",
      "  Preparing metadata (setup.py): started\n",
      "  Preparing metadata (setup.py): finished with status 'done'\n",
      "Collecting pydantic>=2\n",
      "  Downloading pydantic-2.7.1-py3-none-any.whl (409 kB)\n",
      "     -------------------------------------- 409.3/409.3 kB 5.1 MB/s eta 0:00:00\n",
      "Requirement already satisfied: jinja2<3.2,>=2.11.1 in c:\\users\\lenovo\\appdata\\local\\anaconda\\lib\\site-packages (from ydata-profiling->pandas-profiling) (2.11.3)\n",
      "Requirement already satisfied: scipy<1.12,>=1.4.1 in c:\\users\\lenovo\\appdata\\local\\anaconda\\lib\\site-packages (from ydata-profiling->pandas-profiling) (1.9.1)\n",
      "Requirement already satisfied: pillow in c:\\users\\lenovo\\appdata\\local\\anaconda\\lib\\site-packages (from imagehash==4.3.1->ydata-profiling->pandas-profiling) (9.2.0)\n",
      "Requirement already satisfied: PyWavelets in c:\\users\\lenovo\\appdata\\local\\anaconda\\lib\\site-packages (from imagehash==4.3.1->ydata-profiling->pandas-profiling) (1.3.0)\n",
      "Requirement already satisfied: MarkupSafe>=0.23 in c:\\users\\lenovo\\appdata\\local\\anaconda\\lib\\site-packages (from jinja2<3.2,>=2.11.1->ydata-profiling->pandas-profiling) (2.0.1)\n",
      "Requirement already satisfied: cycler>=0.10 in c:\\users\\lenovo\\appdata\\local\\anaconda\\lib\\site-packages (from matplotlib<3.9,>=3.2->ydata-profiling->pandas-profiling) (0.11.0)\n",
      "Requirement already satisfied: fonttools>=4.22.0 in c:\\users\\lenovo\\appdata\\local\\anaconda\\lib\\site-packages (from matplotlib<3.9,>=3.2->ydata-profiling->pandas-profiling) (4.25.0)\n",
      "Requirement already satisfied: python-dateutil>=2.7 in c:\\users\\lenovo\\appdata\\local\\anaconda\\lib\\site-packages (from matplotlib<3.9,>=3.2->ydata-profiling->pandas-profiling) (2.8.2)\n",
      "Requirement already satisfied: pyparsing>=2.2.1 in c:\\users\\lenovo\\appdata\\local\\anaconda\\lib\\site-packages (from matplotlib<3.9,>=3.2->ydata-profiling->pandas-profiling) (3.0.9)\n",
      "Requirement already satisfied: kiwisolver>=1.0.1 in c:\\users\\lenovo\\appdata\\local\\anaconda\\lib\\site-packages (from matplotlib<3.9,>=3.2->ydata-profiling->pandas-profiling) (1.4.2)\n",
      "Requirement already satisfied: packaging>=20.0 in c:\\users\\lenovo\\appdata\\local\\anaconda\\lib\\site-packages (from matplotlib<3.9,>=3.2->ydata-profiling->pandas-profiling) (21.3)\n",
      "Collecting numpy<2,>=1.16.0\n",
      "  Downloading numpy-1.26.4-cp39-cp39-win_amd64.whl (15.8 MB)\n",
      "     ---------------------------------------- 15.8/15.8 MB 4.1 MB/s eta 0:00:00\n",
      "Collecting llvmlite<0.43,>=0.42.0dev0\n",
      "  Downloading llvmlite-0.42.0-cp39-cp39-win_amd64.whl (28.1 MB)\n",
      "     ---------------------------------------- 28.1/28.1 MB 2.5 MB/s eta 0:00:00\n",
      "Requirement already satisfied: pytz>=2020.1 in c:\\users\\lenovo\\appdata\\local\\anaconda\\lib\\site-packages (from pandas!=1.4.0,<3,>1.1->ydata-profiling->pandas-profiling) (2022.1)\n",
      "Requirement already satisfied: joblib>=0.14.1 in c:\\users\\lenovo\\appdata\\local\\anaconda\\lib\\site-packages (from phik<0.13,>=0.11.1->ydata-profiling->pandas-profiling) (1.1.0)\n",
      "Collecting pydantic-core==2.18.2\n",
      "  Downloading pydantic_core-2.18.2-cp39-none-win_amd64.whl (1.9 MB)\n",
      "     ---------------------------------------- 1.9/1.9 MB 992.9 kB/s eta 0:00:00\n",
      "Collecting annotated-types>=0.4.0\n",
      "  Downloading annotated_types-0.6.0-py3-none-any.whl (12 kB)\n",
      "Collecting typing-extensions>=4.6.1\n",
      "  Using cached typing_extensions-4.11.0-py3-none-any.whl (34 kB)\n",
      "Requirement already satisfied: urllib3<1.27,>=1.21.1 in c:\\users\\lenovo\\appdata\\local\\anaconda\\lib\\site-packages (from requests<3,>=2.24.0->ydata-profiling->pandas-profiling) (1.26.11)\n",
      "Requirement already satisfied: idna<4,>=2.5 in c:\\users\\lenovo\\appdata\\local\\anaconda\\lib\\site-packages (from requests<3,>=2.24.0->ydata-profiling->pandas-profiling) (3.3)\n",
      "Requirement already satisfied: charset-normalizer<3,>=2 in c:\\users\\lenovo\\appdata\\local\\anaconda\\lib\\site-packages (from requests<3,>=2.24.0->ydata-profiling->pandas-profiling) (2.0.4)\n",
      "Requirement already satisfied: certifi>=2017.4.17 in c:\\users\\lenovo\\appdata\\local\\anaconda\\lib\\site-packages (from requests<3,>=2.24.0->ydata-profiling->pandas-profiling) (2022.9.14)\n",
      "Collecting numpy<2,>=1.16.0\n",
      "  Downloading numpy-1.24.4-cp39-cp39-win_amd64.whl (14.9 MB)\n",
      "     ---------------------------------------- 14.9/14.9 MB 2.5 MB/s eta 0:00:00\n",
      "Requirement already satisfied: patsy>=0.5.2 in c:\\users\\lenovo\\appdata\\local\\anaconda\\lib\\site-packages (from statsmodels<1,>=0.13.2->ydata-profiling->pandas-profiling) (0.5.2)\n",
      "Requirement already satisfied: colorama in c:\\users\\lenovo\\appdata\\local\\anaconda\\lib\\site-packages (from tqdm<5,>=4.48.2->ydata-profiling->pandas-profiling) (0.4.5)\n",
      "Requirement already satisfied: importlib-metadata>=3.6 in c:\\users\\lenovo\\appdata\\local\\anaconda\\lib\\site-packages (from typeguard<5,>=4.1.2->ydata-profiling->pandas-profiling) (4.11.3)\n",
      "Collecting pandas!=1.4.0,<3,>1.1\n",
      "  Downloading pandas-2.2.2-cp39-cp39-win_amd64.whl (11.6 MB)\n",
      "     ---------------------------------------- 11.6/11.6 MB 2.6 MB/s eta 0:00:00\n",
      "Requirement already satisfied: attrs>=19.3.0 in c:\\users\\lenovo\\appdata\\local\\anaconda\\lib\\site-packages (from visions[type_image_path]<0.7.7,>=0.7.5->ydata-profiling->pandas-profiling) (21.4.0)\n",
      "Requirement already satisfied: networkx>=2.4 in c:\\users\\lenovo\\appdata\\local\\anaconda\\lib\\site-packages (from visions[type_image_path]<0.7.7,>=0.7.5->ydata-profiling->pandas-profiling) (2.8.4)\n",
      "Collecting tzdata>=2022.7\n",
      "  Downloading tzdata-2024.1-py2.py3-none-any.whl (345 kB)\n",
      "     ------------------------------------ 345.4/345.4 kB 974.2 kB/s eta 0:00:00\n",
      "Requirement already satisfied: zipp>=0.5 in c:\\users\\lenovo\\appdata\\local\\anaconda\\lib\\site-packages (from importlib-metadata>=3.6->typeguard<5,>=4.1.2->ydata-profiling->pandas-profiling) (3.8.0)\n",
      "Requirement already satisfied: six in c:\\users\\lenovo\\appdata\\local\\anaconda\\lib\\site-packages (from patsy>=0.5.2->statsmodels<1,>=0.13.2->ydata-profiling->pandas-profiling) (1.16.0)\n",
      "Building wheels for collected packages: htmlmin\n",
      "  Building wheel for htmlmin (setup.py): started\n",
      "  Building wheel for htmlmin (setup.py): finished with status 'done'\n",
      "  Created wheel for htmlmin: filename=htmlmin-0.1.12-py3-none-any.whl size=27082 sha256=54f17a401a11a8ba72ef16763add2a8bf1116c96a3d5816c923928819c1e6388\n",
      "  Stored in directory: c:\\users\\lenovo\\appdata\\local\\pip\\cache\\wheels\\1d\\05\\04\\c6d7d3b66539d9e659ac6dfe81e2d0fd4c1a8316cc5a403300\n",
      "Successfully built htmlmin\n",
      "Installing collected packages: htmlmin, tzdata, typing-extensions, numpy, multimethod, llvmlite, dacite, annotated-types, typeguard, pydantic-core, pandas, numba, wordcloud, visions, pydantic, phik, imagehash, ydata-profiling, pandas-profiling\n",
      "  Attempting uninstall: typing-extensions\n",
      "    Found existing installation: typing_extensions 4.3.0\n",
      "    Uninstalling typing_extensions-4.3.0:\n",
      "      Successfully uninstalled typing_extensions-4.3.0\n",
      "  Attempting uninstall: numpy\n",
      "    Found existing installation: numpy 1.21.5\n",
      "    Uninstalling numpy-1.21.5:\n",
      "      Successfully uninstalled numpy-1.21.5\n",
      "  Attempting uninstall: llvmlite\n",
      "    Found existing installation: llvmlite 0.38.0\n"
     ]
    },
    {
     "name": "stderr",
     "output_type": "stream",
     "text": [
      "ERROR: Cannot uninstall 'llvmlite'. It is a distutils installed project and thus we cannot accurately determine which files belong to it which would lead to only a partial uninstall.\n"
     ]
    }
   ],
   "source": [
    "!pip install pandas-profiling"
   ]
  },
  {
   "cell_type": "code",
   "execution_count": null,
   "id": "f42a7954",
   "metadata": {},
   "outputs": [],
   "source": []
  }
 ],
 "metadata": {
  "kernelspec": {
   "display_name": "Python 3 (ipykernel)",
   "language": "python",
   "name": "python3"
  },
  "language_info": {
   "codemirror_mode": {
    "name": "ipython",
    "version": 3
   },
   "file_extension": ".py",
   "mimetype": "text/x-python",
   "name": "python",
   "nbconvert_exporter": "python",
   "pygments_lexer": "ipython3",
   "version": "3.9.13"
  }
 },
 "nbformat": 4,
 "nbformat_minor": 5
}
